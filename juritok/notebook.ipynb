{
 "cells": [
  {
   "cell_type": "code",
   "execution_count": 11,
   "metadata": {},
   "outputs": [],
   "source": [
    "import sentencepiece as spm\n",
    "import pandas as pd"
   ]
  },
  {
   "cell_type": "markdown",
   "metadata": {},
   "source": [
    "## Training"
   ]
  },
  {
   "cell_type": "code",
   "execution_count": 25,
   "metadata": {},
   "outputs": [],
   "source": [
    "df = pd.read_csv('jorf_2023.csv', sep=\"|\", header=None, dtype=\"str\", encoding=\"utf-8\")\n",
    "rows = df.iloc[:, 5]\n",
    "rows.to_csv(\"jorf_2023.txt\", sep=\"\\t\", index=False, header=False)\n",
    "\n",
    "model_prefix = 'model'\n",
    "vocab_size = 1024\n",
    "spm.SentencePieceTrainer.Train(f'--input=jorf_2023.txt --model_prefix={model_prefix} --vocab_size={vocab_size} --model_type=bpe')"
   ]
  },
  {
   "cell_type": "markdown",
   "metadata": {},
   "source": [
    "## Test"
   ]
  },
  {
   "cell_type": "code",
   "execution_count": 30,
   "metadata": {},
   "outputs": [
    {
     "data": {
      "text/plain": [
       "True"
      ]
     },
     "execution_count": 30,
     "metadata": {},
     "output_type": "execute_result"
    }
   ],
   "source": [
    "sp = spm.SentencePieceProcessor()\n",
    "sp.Load(f\"{model_prefix}.model\")"
   ]
  },
  {
   "cell_type": "code",
   "execution_count": 34,
   "metadata": {},
   "outputs": [
    {
     "data": {
      "text/plain": [
       "(\"« Art. L. 2122-19-1. — Pour assurer les fonctions liées au secrétariat de mairie dans les communes de moins de 2 000 habitants, le maire nomme aux fonctions de secrétaire général de mairie un agent relevant d'un corps ou d'un cadre d'emplois classé au moins dans la catégorie B.\",\n",
       " ['▁«',\n",
       "  '▁Art',\n",
       "  '.',\n",
       "  '▁L',\n",
       "  '.',\n",
       "  '▁21',\n",
       "  '2',\n",
       "  '2',\n",
       "  '-1',\n",
       "  '9',\n",
       "  '-1',\n",
       "  '.',\n",
       "  '▁—',\n",
       "  '▁Pour',\n",
       "  '▁ass',\n",
       "  'ure',\n",
       "  'r',\n",
       "  '▁les',\n",
       "  '▁fonctions',\n",
       "  '▁l',\n",
       "  'i',\n",
       "  'ées',\n",
       "  '▁au',\n",
       "  '▁sec',\n",
       "  'ré',\n",
       "  't',\n",
       "  'ar',\n",
       "  'i',\n",
       "  'at',\n",
       "  '▁de',\n",
       "  '▁mai',\n",
       "  'r',\n",
       "  'ie',\n",
       "  '▁dans',\n",
       "  '▁les',\n",
       "  '▁commun',\n",
       "  'es',\n",
       "  '▁de',\n",
       "  '▁mo',\n",
       "  'ins',\n",
       "  '▁de',\n",
       "  '▁2',\n",
       "  '▁',\n",
       "  '00',\n",
       "  '0',\n",
       "  '▁h',\n",
       "  'ab',\n",
       "  'it',\n",
       "  'ants',\n",
       "  ',',\n",
       "  '▁le',\n",
       "  '▁m',\n",
       "  'aire',\n",
       "  '▁nom',\n",
       "  'me',\n",
       "  '▁aux',\n",
       "  '▁fonctions',\n",
       "  '▁de',\n",
       "  '▁sec',\n",
       "  'ré',\n",
       "  't',\n",
       "  'aire',\n",
       "  '▁général',\n",
       "  '▁de',\n",
       "  '▁mai',\n",
       "  'r',\n",
       "  'ie',\n",
       "  '▁un',\n",
       "  '▁ag',\n",
       "  'ent',\n",
       "  '▁re',\n",
       "  'le',\n",
       "  'v',\n",
       "  'ant',\n",
       "  '▁d',\n",
       "  \"'\",\n",
       "  'un',\n",
       "  '▁cor',\n",
       "  'ps',\n",
       "  '▁ou',\n",
       "  '▁d',\n",
       "  \"'\",\n",
       "  'un',\n",
       "  '▁cadre',\n",
       "  '▁d',\n",
       "  \"'\",\n",
       "  'empl',\n",
       "  'ois',\n",
       "  '▁cl',\n",
       "  'ass',\n",
       "  'é',\n",
       "  '▁au',\n",
       "  '▁mo',\n",
       "  'ins',\n",
       "  '▁dans',\n",
       "  '▁la',\n",
       "  '▁c',\n",
       "  'a',\n",
       "  'tég',\n",
       "  'or',\n",
       "  'ie',\n",
       "  '▁B',\n",
       "  '.'])"
      ]
     },
     "execution_count": 34,
     "metadata": {},
     "output_type": "execute_result"
    }
   ],
   "source": [
    "df = pd.read_csv('jorf_2023.csv', sep='|', header=None)\n",
    "rows_test = df.iloc[:, 5]\n",
    "\n",
    "sentence = rows_test[5]\n",
    "sentence, sp.encode_as_pieces(sentence)"
   ]
  }
 ],
 "metadata": {
  "kernelspec": {
   "display_name": "base",
   "language": "python",
   "name": "python3"
  },
  "language_info": {
   "codemirror_mode": {
    "name": "ipython",
    "version": 3
   },
   "file_extension": ".py",
   "mimetype": "text/x-python",
   "name": "python",
   "nbconvert_exporter": "python",
   "pygments_lexer": "ipython3",
   "version": "3.9.18"
  }
 },
 "nbformat": 4,
 "nbformat_minor": 2
}
