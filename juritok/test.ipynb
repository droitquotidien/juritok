{
 "cells": [
  {
   "cell_type": "code",
   "execution_count": 3,
   "metadata": {},
   "outputs": [
    {
     "data": {
      "text/plain": [
       "True"
      ]
     },
     "execution_count": 3,
     "metadata": {},
     "output_type": "execute_result"
    }
   ],
   "source": [
    "import sentencepiece as spm\n",
    "import pandas as pd\n",
    "\n",
    "sp = spm.SentencePieceProcessor()\n",
    "sp.load('m.model')\n"
   ]
  },
  {
   "cell_type": "code",
   "execution_count": 4,
   "metadata": {},
   "outputs": [],
   "source": [
    "df = pd.read_csv('../data/jorf_2022.csv',sep='|',usecols=[5],names=['text'])\n",
    "df = df.drop(df[df.text.apply(lambda string:'/' in str(string))].index)"
   ]
  },
  {
   "cell_type": "markdown",
   "metadata": {},
   "source": [
    "### Test du tokenizer sur quelques textes juridiques du Journal officiel de 2022 qui ne font donc pas partie du corpus d'entraînement"
   ]
  },
  {
   "cell_type": "code",
   "execution_count": 8,
   "metadata": {},
   "outputs": [
    {
     "name": "stdout",
     "output_type": "stream",
     "text": [
      "len: 142 [264, 11492, 9, 5288, 15607, 34, 9, 5288, 6993, 9, 6, 39924, 1331, 31, 5668, 1262, 39925, 55, 11492, 9, 5288, 65, 461, 39939, 15454, 39925, 25, 3392, 39925, 35990, 65, 461, 39939, 15454, 3, 39924, 550, 800, 39925, 9, 6, 39924, 4715, 3, 39924, 4198, 60, 4521, 34, 25, 3392, 60, 9010, 3, 39924, 4298, 15481, 31, 2142, 31, 5668, 1262, 39925, 55, 11492, 9, 6160, 2334, 39925, 9, 2142, 34, 3, 39924, 18714, 9, 6, 39924, 1331, 31, 5668, 135, 6, 39924, 902, 466, 55, 11492, 135, 146, 9, 639, 2551, 32501, 9, 25, 1087, 9, 4542, 31, 755, 1262, 135, 55, 2385, 146, 39, 13773, 319, 302, 55, 1099, 3, 39924, 810, 135, 6, 39924, 902, 1657, 34, 55, 11492, 3, 39924, 810, 135, 6, 39924, 902, 903, 9, 639, 2551, 32501, 15, 39924, 35703, 157, 1174, 1631, 68]\n",
      "------------------\n",
      "Texte original :\n",
      "Les prévisions de solde structurel et de solde effectif de l'ensemble des administrations publiques, les prévisions de solde par sous-secteur, la prévision, déclinée par sous-secteur d'administration publique, de l'objectif d'évolution en volume et la prévision en milliards d'euros courants des dépenses des administrations publiques, les prévisions de prélèvements obligatoires, de dépenses et d'endettement de l'ensemble des administrations pour l'année 2023, les prévisions pour 2023 de ces mêmes agrégats de la loi de programmation des finances publiques pour les années 2023 à 2027, ainsi que les données d'exécution pour l'année 2021 et les prévisions d'exécution pour l'année 2022 de ces mêmes agrégats s'établissent comme suit :\n",
      "Texte décodé :\n",
      "Les prévisions de solde structurel et de solde effectif de l'ensemble des administrations publiques, les prévisions de solde par sous-secteur, la prévision, déclinée par sous-secteur d'administration publique, de l'objectif d'évolution en volume et la prévision en milliards d'euros courants des dépenses des administrations publiques, les prévisions de prélèvements obligatoires, de dépenses et d'endettement de l'ensemble des administrations pour l'année 2023, les prévisions pour 2023 de ces mêmes agrégats de la loi de programmation des finances publiques pour les années 2023 à 2027, ainsi que les données d'exécution pour l'année 2021 et les prévisions d'exécution pour l'année 2022 de ces mêmes agrégats s'établissent comme suit :\n"
     ]
    }
   ],
   "source": [
    "original_text = df['text'].iloc[1]\n",
    "\n",
    "encoded = sp.encode(original_text)\n",
    "print(\"len:\", len(encoded), encoded)\n",
    "print(\"------------------\")\n",
    "print(\"Texte original :\")\n",
    "print(original_text)\n",
    "print(\"Texte décodé :\")\n",
    "print(sp.decode(encoded))"
   ]
  },
  {
   "cell_type": "code",
   "execution_count": 9,
   "metadata": {},
   "outputs": [
    {
     "name": "stdout",
     "output_type": "stream",
     "text": [
      "len: 9 [64, 1243, 1271, 27, 15189, 3171, 299, 6240, 39946]\n",
      "------------------\n",
      "Texte original :\n",
      "(En % du PIB sauf mention contraire)\n",
      "Texte décodé :\n",
      "(En % du PIB sauf mention contraire)\n"
     ]
    }
   ],
   "source": [
    "original_text = df['text'].iloc[2]\n",
    "\n",
    "encoded = sp.encode(original_text)\n",
    "print(\"len:\", len(encoded), encoded)\n",
    "print(\"------------------\")\n",
    "print(\"Texte original :\")\n",
    "print(original_text)\n",
    "print(\"Texte décodé :\")\n",
    "print(sp.decode(encoded))"
   ]
  }
 ],
 "metadata": {
  "kernelspec": {
   "display_name": "base",
   "language": "python",
   "name": "python3"
  },
  "language_info": {
   "codemirror_mode": {
    "name": "ipython",
    "version": 3
   },
   "file_extension": ".py",
   "mimetype": "text/x-python",
   "name": "python",
   "nbconvert_exporter": "python",
   "pygments_lexer": "ipython3",
   "version": "3.8.8"
  }
 },
 "nbformat": 4,
 "nbformat_minor": 2
}
